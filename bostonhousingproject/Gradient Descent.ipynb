{
 "cells": [
  {
   "cell_type": "code",
   "execution_count": 2,
   "metadata": {},
   "outputs": [],
   "source": [
    "import pandas as pd \n",
    "import numpy as np\n",
    "import matplotlib.pyplot as plt\n",
    "import seaborn as sns\n",
    "sns.set_style(\"whitegrid\")\n",
    "%matplotlib inline"
   ]
  },
  {
   "cell_type": "code",
   "execution_count": 3,
   "metadata": {},
   "outputs": [
    {
     "name": "stdout",
     "output_type": "stream",
     "text": [
      "3.0000 0.6000\n",
      "0.6000 0.1200\n",
      "0.1200 0.0240\n",
      "0.0240 0.0048\n",
      "0.0048 0.0010\n",
      "0.0010 0.0002\n",
      "0.0002 0.0000\n",
      "0.0000 0.0000\n",
      "0.0000 0.0000\n",
      "0.0000 0.0000\n"
     ]
    }
   ],
   "source": [
    "theta = 3\n",
    "alpha = 0.1\n",
    "dat = []\n",
    "for oo in range(0, 10):\n",
    "    res = alpha * 2 * theta\n",
    "    print(\"{0:.4f} {1:.4f}\".format(theta, res))\n",
    "    dat.append([theta, theta**2])\n",
    "    theta = theta = res"
   ]
  },
  {
   "cell_type": "code",
   "execution_count": 4,
   "metadata": {},
   "outputs": [
    {
     "data": {
      "text/html": [
       "<div>\n",
       "<style scoped>\n",
       "    .dataframe tbody tr th:only-of-type {\n",
       "        vertical-align: middle;\n",
       "    }\n",
       "\n",
       "    .dataframe tbody tr th {\n",
       "        vertical-align: top;\n",
       "    }\n",
       "\n",
       "    .dataframe thead th {\n",
       "        text-align: right;\n",
       "    }\n",
       "</style>\n",
       "<table border=\"1\" class=\"dataframe\">\n",
       "  <thead>\n",
       "    <tr style=\"text-align: right;\">\n",
       "      <th></th>\n",
       "      <th>0</th>\n",
       "      <th>1</th>\n",
       "    </tr>\n",
       "  </thead>\n",
       "  <tbody>\n",
       "    <tr>\n",
       "      <th>0</th>\n",
       "      <td>3.000000</td>\n",
       "      <td>9.000000e+00</td>\n",
       "    </tr>\n",
       "    <tr>\n",
       "      <th>1</th>\n",
       "      <td>0.600000</td>\n",
       "      <td>3.600000e-01</td>\n",
       "    </tr>\n",
       "    <tr>\n",
       "      <th>2</th>\n",
       "      <td>0.120000</td>\n",
       "      <td>1.440000e-02</td>\n",
       "    </tr>\n",
       "    <tr>\n",
       "      <th>3</th>\n",
       "      <td>0.024000</td>\n",
       "      <td>5.760000e-04</td>\n",
       "    </tr>\n",
       "    <tr>\n",
       "      <th>4</th>\n",
       "      <td>0.004800</td>\n",
       "      <td>2.304000e-05</td>\n",
       "    </tr>\n",
       "    <tr>\n",
       "      <th>5</th>\n",
       "      <td>0.000960</td>\n",
       "      <td>9.216000e-07</td>\n",
       "    </tr>\n",
       "    <tr>\n",
       "      <th>6</th>\n",
       "      <td>0.000192</td>\n",
       "      <td>3.686400e-08</td>\n",
       "    </tr>\n",
       "    <tr>\n",
       "      <th>7</th>\n",
       "      <td>0.000038</td>\n",
       "      <td>1.474560e-09</td>\n",
       "    </tr>\n",
       "    <tr>\n",
       "      <th>8</th>\n",
       "      <td>0.000008</td>\n",
       "      <td>5.898240e-11</td>\n",
       "    </tr>\n",
       "    <tr>\n",
       "      <th>9</th>\n",
       "      <td>0.000002</td>\n",
       "      <td>2.359296e-12</td>\n",
       "    </tr>\n",
       "  </tbody>\n",
       "</table>\n",
       "</div>"
      ],
      "text/plain": [
       "          0             1\n",
       "0  3.000000  9.000000e+00\n",
       "1  0.600000  3.600000e-01\n",
       "2  0.120000  1.440000e-02\n",
       "3  0.024000  5.760000e-04\n",
       "4  0.004800  2.304000e-05\n",
       "5  0.000960  9.216000e-07\n",
       "6  0.000192  3.686400e-08\n",
       "7  0.000038  1.474560e-09\n",
       "8  0.000008  5.898240e-11\n",
       "9  0.000002  2.359296e-12"
      ]
     },
     "execution_count": 4,
     "metadata": {},
     "output_type": "execute_result"
    }
   ],
   "source": [
    "tmp = pd.DataFrame(dat)\n",
    "tmp"
   ]
  },
  {
   "cell_type": "code",
   "execution_count": 5,
   "metadata": {},
   "outputs": [
    {
     "data": {
      "image/png": "[encoded data removed]",
      "text/plain": [
       "<matplotlib.figure.Figure at 0x1b56cfdbd68>"
      ]
     },
     "metadata": {},
     "output_type": "display_data"
    }
   ],
   "source": [
    "plt.figure(figsize = (10, 8))\n",
    "plt.plot(np.linspace(-2, 4, 100), np.linspace(-2, 4, 100)**2);\n",
    "plt.scatter(tmp.iloc[:, 0], tmp.iloc[:, 1], marker=\"X\");\n",
    "plt.xlabel(\"theta\");\n",
    "plt.ylabel(\"J(theta)\");"
   ]
  },
  {
   "cell_type": "markdown",
   "metadata": {},
   "source": [
    "# Second example"
   ]
  },
  {
   "cell_type": "code",
   "execution_count": 6,
   "metadata": {},
   "outputs": [
    {
     "name": "stdout",
     "output_type": "stream",
     "text": [
      "3.0000 1.1400\n",
      "1.8600 0.2946\n",
      "1.5654 0.1847\n",
      "1.3807 0.1329\n",
      "1.2478 0.1027\n",
      "1.1451 0.0830\n",
      "1.0621 0.0692\n",
      "0.9930 0.0590\n",
      "0.9339 0.0513\n",
      "0.8827 0.0452\n"
     ]
    }
   ],
   "source": [
    "theta = 3\n",
    "alpha = 0.01\n",
    "dat = []\n",
    "for oo in range(0, 10):\n",
    "    res = alpha *( 4*theta**3+2*theta)\n",
    "    print(\"{0:.4f} {1:.4f}\".format(theta, res))\n",
    "    dat.append([theta, theta ** 4 + theta **2])\n",
    "    theta = theta - res"
   ]
  },
  {
   "cell_type": "code",
   "execution_count": 7,
   "metadata": {},
   "outputs": [
    {
     "data": {
      "text/html": [
       "<div>\n",
       "<style scoped>\n",
       "    .dataframe tbody tr th:only-of-type {\n",
       "        vertical-align: middle;\n",
       "    }\n",
       "\n",
       "    .dataframe tbody tr th {\n",
       "        vertical-align: top;\n",
       "    }\n",
       "\n",
       "    .dataframe thead th {\n",
       "        text-align: right;\n",
       "    }\n",
       "</style>\n",
       "<table border=\"1\" class=\"dataframe\">\n",
       "  <thead>\n",
       "    <tr style=\"text-align: right;\">\n",
       "      <th></th>\n",
       "      <th>0</th>\n",
       "      <th>1</th>\n",
       "    </tr>\n",
       "  </thead>\n",
       "  <tbody>\n",
       "    <tr>\n",
       "      <th>0</th>\n",
       "      <td>3.000000</td>\n",
       "      <td>90.000000</td>\n",
       "    </tr>\n",
       "    <tr>\n",
       "      <th>1</th>\n",
       "      <td>1.860000</td>\n",
       "      <td>15.428432</td>\n",
       "    </tr>\n",
       "    <tr>\n",
       "      <th>2</th>\n",
       "      <td>1.565406</td>\n",
       "      <td>8.455422</td>\n",
       "    </tr>\n",
       "    <tr>\n",
       "      <th>3</th>\n",
       "      <td>1.380657</td>\n",
       "      <td>5.539863</td>\n",
       "    </tr>\n",
       "    <tr>\n",
       "      <th>4</th>\n",
       "      <td>1.247771</td>\n",
       "      <td>3.980968</td>\n",
       "    </tr>\n",
       "    <tr>\n",
       "      <th>5</th>\n",
       "      <td>1.145108</td>\n",
       "      <td>3.030703</td>\n",
       "    </tr>\n",
       "    <tr>\n",
       "      <th>6</th>\n",
       "      <td>1.062144</td>\n",
       "      <td>2.400869</td>\n",
       "    </tr>\n",
       "    <tr>\n",
       "      <th>7</th>\n",
       "      <td>0.992970</td>\n",
       "      <td>1.958167</td>\n",
       "    </tr>\n",
       "    <tr>\n",
       "      <th>8</th>\n",
       "      <td>0.933949</td>\n",
       "      <td>1.633098</td>\n",
       "    </tr>\n",
       "    <tr>\n",
       "      <th>9</th>\n",
       "      <td>0.882684</td>\n",
       "      <td>1.386175</td>\n",
       "    </tr>\n",
       "  </tbody>\n",
       "</table>\n",
       "</div>"
      ],
      "text/plain": [
       "          0          1\n",
       "0  3.000000  90.000000\n",
       "1  1.860000  15.428432\n",
       "2  1.565406   8.455422\n",
       "3  1.380657   5.539863\n",
       "4  1.247771   3.980968\n",
       "5  1.145108   3.030703\n",
       "6  1.062144   2.400869\n",
       "7  0.992970   1.958167\n",
       "8  0.933949   1.633098\n",
       "9  0.882684   1.386175"
      ]
     },
     "execution_count": 7,
     "metadata": {},
     "output_type": "execute_result"
    }
   ],
   "source": [
    "tmp  = pd.DataFrame(dat)\n",
    "tmp"
   ]
  },
  {
   "cell_type": "code",
   "execution_count": 9,
   "metadata": {},
   "outputs": [
    {
     "data": {
      "image/png": "[encoded data removed]",
      "text/plain": [
       "<matplotlib.figure.Figure at 0x1b56f3fd668>"
      ]
     },
     "metadata": {},
     "output_type": "display_data"
    }
   ],
   "source": [
    "plt.figure(figsize=(10,8))\n",
    "x_grid = np.linspace(-2, 4, 100)\n",
    "plt.plot(x_grid, x_grid ** 4 + x_grid ** 2);\n",
    "plt.scatter(tmp.iloc[:,0], tmp.iloc[:,1], marker='X');\n",
    "plt.xlabel('theta');\n",
    "plt.ylabel('J(theta)');"
   ]
  },
  {
   "cell_type": "code",
   "execution_count": 10,
   "metadata": {},
   "outputs": [],
   "source": [
    "from sklearn.datasets import load_boston"
   ]
  },
  {
   "cell_type": "code",
   "execution_count": 11,
   "metadata": {},
   "outputs": [],
   "source": [
    "boston_data = load_boston()\n",
    "df = pd.DataFrame(boston_data.data, columns = boston_data.feature_names)"
   ]
  },
  {
   "cell_type": "code",
   "execution_count": 12,
   "metadata": {},
   "outputs": [],
   "source": [
    "X = df[[\"LSTAT\"]].values\n",
    "y = boston_data.target"
   ]
  },
  {
   "cell_type": "code",
   "execution_count": 14,
   "metadata": {},
   "outputs": [],
   "source": [
    "from sklearn.preprocessing import StandardScaler\n",
    "sc_x = StandardScaler()\n",
    "sc_y = StandardScaler()\n",
    "X_std = sc_x.fit_transform(X)\n",
    "y_std = sc_y.fit_transform(y.reshape(-1, 1)).flatten()"
   ]
  },
  {
   "cell_type": "code",
   "execution_count": 19,
   "metadata": {},
   "outputs": [],
   "source": [
    "alpha = 0.0001\n",
    "w_ = np.zeros(1 + X_std.shape[1])\n",
    "cost_ = []\n",
    "n_ = 100\n",
    "for i in range(n_):\n",
    "    y_pred = np.dot(X_std, w_[1:]) + w_[0]\n",
    "    errors = (y_std - y_pred)\n",
    "    \n",
    "    w_[1:] += alpha * X_std.T.dot(errors)\n",
    "    w_[0]  += alpha * errors.sum()"
   ]
  },
  {
   "cell_type": "code",
   "execution_count": 20,
   "metadata": {},
   "outputs": [
    {
     "data": {
      "text/plain": [
       "array([  7.88992450e-01,   3.61235179e-01,   8.86677403e-01,\n",
       "         9.98758034e-01,   7.53003256e-01,   7.65342408e-01,\n",
       "         2.29367604e-02,  -6.68055754e-01,  -1.77652291e+00,\n",
       "        -4.57261907e-01,  -8.01729901e-01,  -6.34373039e-02,\n",
       "        -3.14333395e-01,   4.51722294e-01,   2.46069760e-01,\n",
       "         4.30128778e-01,   6.24470422e-01,  -2.07394078e-01,\n",
       "         9.90281980e-02,   1.41186967e-01,  -8.60340873e-01,\n",
       "        -1.21020013e-01,  -6.23840459e-01,  -7.43118929e-01,\n",
       "        -3.75000893e-01,  -3.96594409e-01,  -2.21789755e-01,\n",
       "        -4.75770635e-01,  -1.51089584e-02,   6.92085805e-02,\n",
       "        -1.02280638e+00,  -3.97872625e-02,  -1.54824860e+00,\n",
       "        -5.85794740e-01,  -7.90419012e-01,   3.05708995e-01,\n",
       "         1.27819553e-01,   3.99280898e-01,   2.59437175e-01,\n",
       "         8.56857786e-01,   1.09747125e+00,   8.03388127e-01,\n",
       "         7.03646648e-01,   5.36039833e-01,   3.19076409e-01,\n",
       "         2.51211073e-01,  -1.53924419e-01,  -6.32066560e-01,\n",
       "        -1.86701003e+00,  -3.64718266e-01,  -8.19460320e-02,\n",
       "         3.31415561e-01,   7.58144570e-01,   4.34241828e-01,\n",
       "        -2.20761492e-01,   8.06472915e-01,   7.07759699e-01,\n",
       "         8.94903505e-01,   5.95679068e-01,   3.53009077e-01,\n",
       "        -5.10981519e-02,  -1.83744036e-01,   6.09046482e-01,\n",
       "         3.24217723e-01,   4.73315810e-01,   8.20868592e-01,\n",
       "         2.48126285e-01,   4.68174497e-01,  -4.49285758e-02,\n",
       "         3.97224372e-01,   6.10074745e-01,   2.85143741e-01,\n",
       "         7.33466265e-01,   5.25757206e-01,   6.03905169e-01,\n",
       "         3.81800432e-01,   7.02368432e-02,   2.45041497e-01,\n",
       "         3.21911244e-02,   3.65348230e-01,   7.57116307e-01,\n",
       "         5.58661612e-01,   6.10074745e-01,   5.28841994e-01,\n",
       "         3.11878571e-01,   6.29611736e-01,  -2.12785344e-02,\n",
       "         4.33213566e-01,   7.35522791e-01,   7.14957537e-01,\n",
       "         3.95167847e-01,   4.57891870e-01,   4.62004921e-01,\n",
       "         6.62516141e-01,   2.12137092e-01,   6.17272584e-01,\n",
       "         1.35017391e-01,   8.68168675e-01,   9.33977486e-01,\n",
       "         6.64572667e-01,   3.32443824e-01,   5.12389791e-01,\n",
       "         2.08024041e-01,  -8.09177693e-02,   3.32193871e-02,\n",
       "        -3.92481358e-01,  -6.17670883e-01,  -1.47754843e-01,\n",
       "         3.93889631e-02,  -2.97881193e-01,  -3.56742118e-02,\n",
       "         2.56352386e-01,  -3.65746529e-01,  -4.56233644e-01,\n",
       "         2.26532769e-01,  -3.19474709e-01,   6.30390045e-02,\n",
       "         2.41956709e-01,  -2.79372465e-01,  -9.83982347e-02,\n",
       "        -1.76546198e-01,  -1.66263571e-01,  -5.42607708e-01,\n",
       "        -1.31174819e+00,  -5.06618515e-01,  -2.21789755e-01,\n",
       "        -1.50197678e+00,  -4.66516271e-01,  -2.81428990e-01,\n",
       "        -5.84766478e-01,   5.45629500e-03,   4.04172258e-02,\n",
       "         1.57639170e-01,  -2.44411534e-01,  -4.78855423e-01,\n",
       "        -4.42866229e-01,  -4.36696653e-01,  -1.99167976e-01,\n",
       "        -8.91188753e-01,  -5.97105630e-01,  -1.18321535e+00,\n",
       "        -2.23718459e+00,  -1.45673322e+00,  -1.41560272e+00,\n",
       "        -1.71071410e+00,  -1.55750296e+00,  -4.10990086e-01,\n",
       "        -1.73539241e+00,  -1.61097262e+00,  -9.04556168e-01,\n",
       "        -1.48783106e-01,  -6.44655666e-02,   5.48129032e-02,\n",
       "        -3.22559497e-01,  -2.53665898e-01,  -2.43383271e-01,\n",
       "        -3.58548690e-01,   8.29094694e-01,   6.39894362e-01,\n",
       "         5.41181146e-01,   7.35522791e-01,   1.12317782e+00,\n",
       "         1.10364083e+00,   9.59684053e-01,   1.04169511e-01,\n",
       "         2.92341580e-01,   9.20610071e-01,   5.27563778e-02,\n",
       "         1.59695696e-01,   1.37073917e-01,  -1.82715774e-01,\n",
       "         6.40672672e-02,  -2.09450603e-01,   3.71517806e-01,\n",
       "         3.09822045e-01,   7.53003256e-01,   2.61493700e-01,\n",
       "         6.54290040e-01,   5.89509492e-01,   7.82822874e-01,\n",
       "         5.23700681e-01,   3.29359036e-01,   8.05444652e-01,\n",
       "         7.17014063e-01,  -1.36443953e-01,  -5.10981519e-02,\n",
       "         8.43490371e-01,   6.14187796e-01,   8.32179482e-01,\n",
       "         7.46833680e-01,   7.76653298e-01,   8.18812067e-01,\n",
       "         1.00595587e+00,   7.83851136e-01,   8.50688210e-01,\n",
       "         9.95673246e-01,   8.81536090e-01,   4.15733100e-01,\n",
       "         6.20357372e-01,   8.32179482e-01,   8.43490371e-01,\n",
       "         5.37068095e-01,   9.81277569e-01,   9.09299182e-01,\n",
       "         1.00492761e+00,   1.83345737e-01,   1.73063110e-01,\n",
       "        -5.55975123e-01,  -2.06365815e-01,  -1.07319125e+00,\n",
       "        -4.74742372e-01,  -1.16470662e+00,  -3.47237801e-01,\n",
       "         3.36556875e-01,  -1.73744893e+00,   3.27302511e-01,\n",
       "        -8.81156080e-02,   3.04680732e-01,  -5.41579445e-01,\n",
       "         2.21391456e-01,   3.02624207e-01,  -9.05584431e-01,\n",
       "         2.80002428e-01,   5.19587630e-01,   8.75366514e-01,\n",
       "         8.24981643e-01,   9.79221044e-01,   6.47092201e-01,\n",
       "         8.97988293e-01,   9.14440495e-01,   1.03141249e-01,\n",
       "         7.61229358e-01,   1.04708638e+00,   8.94903505e-01,\n",
       "         4.73315810e-01,   1.82317474e-01,   3.20104672e-01,\n",
       "         8.14699016e-01,   6.47092201e-01,   5.43237671e-01,\n",
       "         1.30904341e-01,   2.60215484e-02,   1.47356543e-01,\n",
       "         7.67398934e-01,   1.57389217e-02,  -5.97105630e-01,\n",
       "         3.59178654e-01,   2.57380649e-01,   3.22161197e-01,\n",
       "         6.26526948e-01,   6.94392284e-01,   9.31920961e-01,\n",
       "         9.38090537e-01,   9.37062274e-01,   6.25498685e-01,\n",
       "         3.49924289e-01,   9.81277569e-01,   7.74596772e-01,\n",
       "         5.00050639e-01,   5.91566017e-01,   3.14963359e-01,\n",
       "         5.54548561e-01,   6.93364021e-01,   1.44271755e-01,\n",
       "         4.68174497e-01,   2.26532769e-01,  -2.19733230e-01,\n",
       "         5.36039833e-01,   9.76136256e-01,  -1.02511285e-01,\n",
       "        -3.56742118e-02,   6.23442160e-01,   5.06220215e-01,\n",
       "         6.24470422e-01,   9.38090537e-01,   9.94644984e-01,\n",
       "         6.78968344e-01,   8.73309989e-01,   5.61746400e-01,\n",
       "         8.02359864e-01,   9.14440495e-01,   8.29094694e-01,\n",
       "         9.91560196e-01,   9.76136256e-01,   4.93881063e-01,\n",
       "         4.54807082e-01,  -2.84763731e-02,   5.66887713e-01,\n",
       "         5.19587630e-01,   3.23189460e-01,   9.58655790e-01,\n",
       "         9.35005749e-01,   8.17783804e-01,   4.18817888e-01,\n",
       "         2.31674082e-01,   6.56346565e-01,   5.41181146e-01,\n",
       "        -3.27700810e-01,   7.90020712e-01,   8.13670754e-01,\n",
       "         6.76911819e-01,   3.24217723e-01,   4.09563524e-01,\n",
       "         8.01331602e-01,   5.88481229e-01,   3.82828695e-01,\n",
       "         6.35781312e-01,   5.26785469e-01,   8.34236007e-01,\n",
       "         2.75889377e-01,   1.34324432e-03,   6.86166183e-01,\n",
       "         9.59434100e-02,   4.88739750e-01,   3.46839501e-01,\n",
       "         1.18565189e-01,  -5.83738215e-01,  -3.37983437e-01,\n",
       "         2.35787133e-01,  -7.91111971e-03,   5.60718137e-01,\n",
       "         5.94650805e-01,   5.09305003e-01,   9.38868846e-02,\n",
       "         6.71770505e-01,   7.78709823e-01,   6.68685717e-01,\n",
       "        -1.40806957e-02,   2.75889377e-01,   5.46322459e-01,\n",
       "         3.66376492e-01,   2.29367604e-02,   4.95937589e-01,\n",
       "         7.17014063e-01,   6.06989957e-01,   4.77428861e-01,\n",
       "         2.93369843e-01,   2.15221880e-01,   4.26015727e-01,\n",
       "         2.99539419e-01,   3.45811239e-01,   7.36551053e-01,\n",
       "         4.11620050e-01,   5.62774662e-01,   8.27038168e-01,\n",
       "         2.18306668e-01,  -1.74154369e-03,   6.47092201e-01,\n",
       "         6.85137920e-01,   6.95420547e-01,   6.86166183e-01,\n",
       "         7.36551053e-01,   5.00050639e-01,   8.38349058e-01,\n",
       "         4.73315810e-01,   7.28324952e-01,  -5.08675040e-01,\n",
       "        -6.34373039e-02,   1.20621714e-01,  -1.74154369e-03,\n",
       "         5.00050639e-01,  -1.58037470e-01,   2.53267598e-01,\n",
       "        -2.04309290e-01,   7.57116307e-01,   5.68944238e-01,\n",
       "        -1.38500479e-01,  -6.96068799e-02,   9.65853629e-01,\n",
       "         9.17525283e-01,   9.96701509e-01,   3.21132935e-01,\n",
       "         3.87970008e-01,  -2.27420204e+00,  -2.60324610e+00,\n",
       "        -8.09177693e-02,  -1.08861519e+00,  -8.82962652e-01,\n",
       "        -1.13488701e+00,  -9.38488836e-01,  -4.68572796e-01,\n",
       "        -8.66510449e-01,  -1.12563264e+00,  -1.22434586e+00,\n",
       "        -1.84850130e+00,  -1.86701003e+00,  -1.60685957e+00,\n",
       "        -1.98834502e+00,  -1.84747304e+00,  -8.42860408e-01,\n",
       "        -4.58290169e-01,  -6.27953510e-01,  -1.33951128e+00,\n",
       "        -2.58807211e-01,  -3.80142206e-01,  -4.59318432e-01,\n",
       "        -6.90677533e-01,  -7.47231980e-01,  -1.84438825e+00,\n",
       "        -1.78063596e+00,  -1.45159191e+00,  -7.88362486e-01,\n",
       "        -7.87334224e-01,  -7.31808039e-01,  -1.51431593e+00,\n",
       "        -1.06188036e+00,  -1.09889781e+00,   5.37846405e-02,\n",
       "        -1.41354619e+00,  -7.32836302e-01,   2.61493700e-01,\n",
       "        -8.80906127e-01,  -2.23307154e+00,  -7.63684182e-01,\n",
       "        -2.50144809e+00,  -1.68603580e+00,  -1.35082217e+00,\n",
       "        -1.43822449e+00,  -8.19210366e-01,  -1.03720205e+00,\n",
       "        -2.43383271e-01,  -3.13305133e-01,  -1.48783106e-01,\n",
       "        -1.09375650e+00,  -4.63431483e-01,  -1.20686539e+00,\n",
       "        -3.12276870e-01,  -1.91970138e-01,  -9.11754007e-01,\n",
       "        -1.17498925e+00,  -5.12788091e-01,  -7.23581938e-01,\n",
       "         6.40672672e-02,  -3.66774792e-01,  -2.58807211e-01,\n",
       "        -1.09169997e+00,  -5.54946860e-01,  -1.41868750e+00,\n",
       "        -2.19708234e+00,  -1.05159773e+00,  -9.72421504e-01,\n",
       "        -7.06101473e-01,  -4.04820510e-01,  -6.37207874e-01,\n",
       "        -1.14516963e+00,  -1.16470662e+00,  -5.28212031e-01,\n",
       "        -3.89396570e-01,  -5.63172962e-01,  -6.84507957e-01,\n",
       "        -4.92222837e-01,  -5.22042455e-01,  -4.74742372e-01,\n",
       "        -4.20244450e-01,  -6.22812196e-01,  -5.63172962e-01,\n",
       "        -6.53660077e-01,  -4.40809704e-01,  -3.67803054e-01,\n",
       "        -2.10478866e-01,  -3.87340045e-01,  -2.05337552e-01,\n",
       "        -1.37472216e-01,   2.42984972e-01,  -5.82959905e-02,\n",
       "        -1.51867894e-01,  -4.62403220e-01,  -8.91188753e-01,\n",
       "        -5.63172962e-01,  -2.16648442e-01,  -3.73972630e-01,\n",
       "        -2.23067971e-02,  -1.75517935e-01,   1.02112986e-01,\n",
       "        -5.64201224e-01,  -1.17704578e+00,  -6.19727408e-01,\n",
       "        -1.26033505e+00,  -5.52890335e-01,  -4.69851012e-02,\n",
       "         1.96713152e-01,   5.05191953e-01,   5.80255128e-01,\n",
       "         2.29617557e-01,  -7.06351426e-02,   2.13165354e-01,\n",
       "        -2.39270220e-01,   1.23706502e-01,  -5.55975123e-01,\n",
       "        -1.16367836e+00,  -1.75081635e+00,  -5.57003386e-01,\n",
       "        -7.16634053e-02,   6.61237925e-02,  -9.63417093e-02,\n",
       "        -5.08675040e-01,  -8.72680025e-01,  -1.48783106e-01,\n",
       "        -2.74481104e-02,  -2.51609373e-01,  -1.72433147e-01,\n",
       "         3.06737257e-01,   3.67404755e-01,   7.21127113e-01,\n",
       "         6.34753049e-01,   4.90796275e-01])"
      ]
     },
     "execution_count": 20,
     "metadata": {},
     "output_type": "execute_result"
    }
   ],
   "source": [
    " np.dot(X_std, w_[1:])"
   ]
  },
  {
   "cell_type": "code",
   "execution_count": null,
   "metadata": {},
   "outputs": [],
   "source": []
  }
 ],
 "metadata": {
  "kernelspec": {
   "display_name": "Python 3",
   "language": "python",
   "name": "python3"
  },
  "language_info": {
   "codemirror_mode": {
    "name": "ipython",
    "version": 3
   },
   "file_extension": ".py",
   "mimetype": "text/x-python",
   "name": "python",
   "nbconvert_exporter": "python",
   "pygments_lexer": "ipython3",
   "version": "3.6.3"
  }
 },
 "nbformat": 4,
 "nbformat_minor": 2
}
